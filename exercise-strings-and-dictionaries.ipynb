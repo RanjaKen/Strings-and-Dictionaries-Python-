{
 "cells": [
  {
   "cell_type": "markdown",
   "id": "a771d35a",
   "metadata": {
    "papermill": {
     "duration": 0.009184,
     "end_time": "2024-09-16T21:00:08.559863",
     "exception": false,
     "start_time": "2024-09-16T21:00:08.550679",
     "status": "completed"
    },
    "tags": []
   },
   "source": [
    "**This notebook is an exercise in the [Python](https://www.kaggle.com/learn/python) course.  You can reference the tutorial at [this link](https://www.kaggle.com/colinmorris/strings-and-dictionaries).**\n",
    "\n",
    "---\n"
   ]
  },
  {
   "cell_type": "markdown",
   "id": "cca4f44d",
   "metadata": {
    "papermill": {
     "duration": 0.008872,
     "end_time": "2024-09-16T21:00:08.577200",
     "exception": false,
     "start_time": "2024-09-16T21:00:08.568328",
     "status": "completed"
    },
    "tags": []
   },
   "source": [
    "You are almost done with the course. Nice job!\n",
    "\n",
    "We have a couple more interesting problems for you before you go. \n",
    "\n",
    "As always, run the setup code below before working on the questions."
   ]
  },
  {
   "cell_type": "code",
   "execution_count": 1,
   "id": "8e48e679",
   "metadata": {
    "execution": {
     "iopub.execute_input": "2024-09-16T21:00:08.595238Z",
     "iopub.status.busy": "2024-09-16T21:00:08.593823Z",
     "iopub.status.idle": "2024-09-16T21:00:09.145121Z",
     "shell.execute_reply": "2024-09-16T21:00:09.143467Z"
    },
    "papermill": {
     "duration": 0.563937,
     "end_time": "2024-09-16T21:00:09.148745",
     "exception": false,
     "start_time": "2024-09-16T21:00:08.584808",
     "status": "completed"
    },
    "tags": []
   },
   "outputs": [
    {
     "name": "stdout",
     "output_type": "stream",
     "text": [
      "Setup complete.\n"
     ]
    }
   ],
   "source": [
    "from learntools.core import binder; binder.bind(globals())\n",
    "from learntools.python.ex6 import *\n",
    "print('Setup complete.')"
   ]
  },
  {
   "cell_type": "markdown",
   "id": "9632fe81",
   "metadata": {
    "papermill": {
     "duration": 0.007513,
     "end_time": "2024-09-16T21:00:09.165222",
     "exception": false,
     "start_time": "2024-09-16T21:00:09.157709",
     "status": "completed"
    },
    "tags": []
   },
   "source": [
    "Let's start with a string lightning round to warm up. What are the lengths of the strings below?\n",
    "\n",
    "For each of the five strings below, predict what `len()` would return when passed that string. Use the variable `length` to record your answer, then run the cell to check whether you were right.  \n",
    "\n",
    "# 0a."
   ]
  },
  {
   "cell_type": "code",
   "execution_count": 2,
   "id": "6948beaa",
   "metadata": {
    "execution": {
     "iopub.execute_input": "2024-09-16T21:00:09.183813Z",
     "iopub.status.busy": "2024-09-16T21:00:09.183177Z",
     "iopub.status.idle": "2024-09-16T21:00:09.196087Z",
     "shell.execute_reply": "2024-09-16T21:00:09.194885Z"
    },
    "papermill": {
     "duration": 0.025204,
     "end_time": "2024-09-16T21:00:09.198956",
     "exception": false,
     "start_time": "2024-09-16T21:00:09.173752",
     "status": "completed"
    },
    "tags": []
   },
   "outputs": [
    {
     "data": {
      "application/javascript": [
       "parent.postMessage({\"jupyterEvent\": \"custom.exercise_interaction\", \"data\": {\"outcomeType\": 1, \"valueTowardsCompletion\": 0.3333333333333333, \"interactionType\": 1, \"questionType\": 1, \"questionId\": \"0.1_ZA\", \"learnToolsVersion\": \"0.3.4\", \"failureMessage\": \"\", \"exceptionClass\": \"\", \"trace\": \"\"}}, \"*\")"
      ],
      "text/plain": [
       "<IPython.core.display.Javascript object>"
      ]
     },
     "metadata": {},
     "output_type": "display_data"
    },
    {
     "data": {
      "text/markdown": [
       "<span style=\"color:#33cc33\">Correct:</span> \n",
       "\n",
       "The empty string has length zero. Note that the empty string is also the only string that Python considers as False when converting to boolean."
      ],
      "text/plain": [
       "Correct: \n",
       "\n",
       "The empty string has length zero. Note that the empty string is also the only string that Python considers as False when converting to boolean."
      ]
     },
     "metadata": {},
     "output_type": "display_data"
    }
   ],
   "source": [
    "a = \"\"\n",
    "length = 0\n",
    "q0.a.check()"
   ]
  },
  {
   "cell_type": "markdown",
   "id": "9e6f66d4",
   "metadata": {
    "papermill": {
     "duration": 0.007784,
     "end_time": "2024-09-16T21:00:09.215291",
     "exception": false,
     "start_time": "2024-09-16T21:00:09.207507",
     "status": "completed"
    },
    "tags": []
   },
   "source": [
    "# 0b."
   ]
  },
  {
   "cell_type": "code",
   "execution_count": 3,
   "id": "7f494b45",
   "metadata": {
    "execution": {
     "iopub.execute_input": "2024-09-16T21:00:09.233535Z",
     "iopub.status.busy": "2024-09-16T21:00:09.233089Z",
     "iopub.status.idle": "2024-09-16T21:00:09.243538Z",
     "shell.execute_reply": "2024-09-16T21:00:09.242025Z"
    },
    "papermill": {
     "duration": 0.022733,
     "end_time": "2024-09-16T21:00:09.246451",
     "exception": false,
     "start_time": "2024-09-16T21:00:09.223718",
     "status": "completed"
    },
    "tags": []
   },
   "outputs": [
    {
     "data": {
      "application/javascript": [
       "parent.postMessage({\"jupyterEvent\": \"custom.exercise_interaction\", \"data\": {\"outcomeType\": 1, \"valueTowardsCompletion\": 0.3333333333333333, \"interactionType\": 1, \"questionType\": 1, \"questionId\": \"0.2_ZB\", \"learnToolsVersion\": \"0.3.4\", \"failureMessage\": \"\", \"exceptionClass\": \"\", \"trace\": \"\"}}, \"*\")"
      ],
      "text/plain": [
       "<IPython.core.display.Javascript object>"
      ]
     },
     "metadata": {},
     "output_type": "display_data"
    },
    {
     "data": {
      "text/markdown": [
       "<span style=\"color:#33cc33\">Correct:</span> \n",
       "\n",
       "Keep in mind Python includes spaces (and punctuation) when counting string length."
      ],
      "text/plain": [
       "Correct: \n",
       "\n",
       "Keep in mind Python includes spaces (and punctuation) when counting string length."
      ]
     },
     "metadata": {},
     "output_type": "display_data"
    }
   ],
   "source": [
    "b = \"it's ok\"\n",
    "length = 7\n",
    "q0.b.check()"
   ]
  },
  {
   "cell_type": "markdown",
   "id": "598d8616",
   "metadata": {
    "papermill": {
     "duration": 0.008819,
     "end_time": "2024-09-16T21:00:09.264109",
     "exception": false,
     "start_time": "2024-09-16T21:00:09.255290",
     "status": "completed"
    },
    "tags": []
   },
   "source": [
    "# 0c."
   ]
  },
  {
   "cell_type": "code",
   "execution_count": 4,
   "id": "e2b05cc2",
   "metadata": {
    "execution": {
     "iopub.execute_input": "2024-09-16T21:00:09.285139Z",
     "iopub.status.busy": "2024-09-16T21:00:09.284050Z",
     "iopub.status.idle": "2024-09-16T21:00:09.295110Z",
     "shell.execute_reply": "2024-09-16T21:00:09.293760Z"
    },
    "papermill": {
     "duration": 0.025107,
     "end_time": "2024-09-16T21:00:09.297839",
     "exception": false,
     "start_time": "2024-09-16T21:00:09.272732",
     "status": "completed"
    },
    "tags": []
   },
   "outputs": [
    {
     "data": {
      "application/javascript": [
       "parent.postMessage({\"jupyterEvent\": \"custom.exercise_interaction\", \"data\": {\"outcomeType\": 1, \"valueTowardsCompletion\": 0.3333333333333333, \"interactionType\": 1, \"questionType\": 1, \"questionId\": \"0.3_ZC\", \"learnToolsVersion\": \"0.3.4\", \"failureMessage\": \"\", \"exceptionClass\": \"\", \"trace\": \"\"}}, \"*\")"
      ],
      "text/plain": [
       "<IPython.core.display.Javascript object>"
      ]
     },
     "metadata": {},
     "output_type": "display_data"
    },
    {
     "data": {
      "text/markdown": [
       "<span style=\"color:#33cc33\">Correct:</span> \n",
       "\n",
       "Even though we use different syntax to create it, the string `c` is identical to `b`. In particular, note that the backslash is not part of the string, so it doesn't contribute to its length."
      ],
      "text/plain": [
       "Correct: \n",
       "\n",
       "Even though we use different syntax to create it, the string `c` is identical to `b`. In particular, note that the backslash is not part of the string, so it doesn't contribute to its length."
      ]
     },
     "metadata": {},
     "output_type": "display_data"
    }
   ],
   "source": [
    "c = 'it\\'s ok'\n",
    "length = 7\n",
    "q0.c.check()"
   ]
  },
  {
   "cell_type": "markdown",
   "id": "8743a2d6",
   "metadata": {
    "papermill": {
     "duration": 0.008292,
     "end_time": "2024-09-16T21:00:09.315449",
     "exception": false,
     "start_time": "2024-09-16T21:00:09.307157",
     "status": "completed"
    },
    "tags": []
   },
   "source": [
    "# 0d."
   ]
  },
  {
   "cell_type": "code",
   "execution_count": 5,
   "id": "9c34b5fd",
   "metadata": {
    "execution": {
     "iopub.execute_input": "2024-09-16T21:00:09.336163Z",
     "iopub.status.busy": "2024-09-16T21:00:09.334659Z",
     "iopub.status.idle": "2024-09-16T21:00:09.346456Z",
     "shell.execute_reply": "2024-09-16T21:00:09.345190Z"
    },
    "papermill": {
     "duration": 0.024893,
     "end_time": "2024-09-16T21:00:09.348954",
     "exception": false,
     "start_time": "2024-09-16T21:00:09.324061",
     "status": "completed"
    },
    "tags": []
   },
   "outputs": [
    {
     "data": {
      "application/javascript": [
       "parent.postMessage({\"jupyterEvent\": \"custom.exercise_interaction\", \"data\": {\"outcomeType\": 1, \"valueTowardsCompletion\": 0.3333333333333333, \"interactionType\": 1, \"questionType\": 1, \"questionId\": \"0.4_ZD\", \"learnToolsVersion\": \"0.3.4\", \"failureMessage\": \"\", \"exceptionClass\": \"\", \"trace\": \"\"}}, \"*\")"
      ],
      "text/plain": [
       "<IPython.core.display.Javascript object>"
      ]
     },
     "metadata": {},
     "output_type": "display_data"
    },
    {
     "data": {
      "text/markdown": [
       "<span style=\"color:#33cc33\">Correct:</span> \n",
       "\n",
       "The fact that this string was created using triple-quote syntax doesn't make any difference in terms of its content or length. This string is exactly the same as `'hey'`."
      ],
      "text/plain": [
       "Correct: \n",
       "\n",
       "The fact that this string was created using triple-quote syntax doesn't make any difference in terms of its content or length. This string is exactly the same as `'hey'`."
      ]
     },
     "metadata": {},
     "output_type": "display_data"
    }
   ],
   "source": [
    "d = \"\"\"hey\"\"\"\n",
    "length = 3\n",
    "q0.d.check()"
   ]
  },
  {
   "cell_type": "markdown",
   "id": "f9c5132c",
   "metadata": {
    "papermill": {
     "duration": 0.009089,
     "end_time": "2024-09-16T21:00:09.367012",
     "exception": false,
     "start_time": "2024-09-16T21:00:09.357923",
     "status": "completed"
    },
    "tags": []
   },
   "source": [
    "# 0e."
   ]
  },
  {
   "cell_type": "code",
   "execution_count": 6,
   "id": "30166c51",
   "metadata": {
    "execution": {
     "iopub.execute_input": "2024-09-16T21:00:09.389121Z",
     "iopub.status.busy": "2024-09-16T21:00:09.387893Z",
     "iopub.status.idle": "2024-09-16T21:00:09.399283Z",
     "shell.execute_reply": "2024-09-16T21:00:09.398104Z"
    },
    "papermill": {
     "duration": 0.025516,
     "end_time": "2024-09-16T21:00:09.402178",
     "exception": false,
     "start_time": "2024-09-16T21:00:09.376662",
     "status": "completed"
    },
    "tags": []
   },
   "outputs": [
    {
     "data": {
      "application/javascript": [
       "parent.postMessage({\"jupyterEvent\": \"custom.exercise_interaction\", \"data\": {\"outcomeType\": 1, \"valueTowardsCompletion\": 0.3333333333333333, \"interactionType\": 1, \"questionType\": 1, \"questionId\": \"0.5_ZE\", \"learnToolsVersion\": \"0.3.4\", \"failureMessage\": \"\", \"exceptionClass\": \"\", \"trace\": \"\"}}, \"*\")"
      ],
      "text/plain": [
       "<IPython.core.display.Javascript object>"
      ]
     },
     "metadata": {},
     "output_type": "display_data"
    },
    {
     "data": {
      "text/markdown": [
       "<span style=\"color:#33cc33\">Correct:</span> \n",
       "\n",
       "The newline character is just a single character! (Even though we represent it to Python using a combination of two characters.)"
      ],
      "text/plain": [
       "Correct: \n",
       "\n",
       "The newline character is just a single character! (Even though we represent it to Python using a combination of two characters.)"
      ]
     },
     "metadata": {},
     "output_type": "display_data"
    }
   ],
   "source": [
    "e = '\\n'\n",
    "length = 1\n",
    "q0.e.check()"
   ]
  },
  {
   "cell_type": "markdown",
   "id": "0ea0af79",
   "metadata": {
    "papermill": {
     "duration": 0.009628,
     "end_time": "2024-09-16T21:00:09.421501",
     "exception": false,
     "start_time": "2024-09-16T21:00:09.411873",
     "status": "completed"
    },
    "tags": []
   },
   "source": [
    "# 1.\n",
    "\n",
    "There is a saying that \"Data scientists spend 80% of their time cleaning data, and 20% of their time complaining about cleaning data.\" Let's see if you can write a function to help clean US zip code data. Given a string, it should return whether or not that string represents a valid zip code. For our purposes, a valid zip code is any string consisting of exactly 5 digits.\n",
    "\n",
    "HINT: `str` has a method that will be useful here. Use `help(str)` to review a list of string methods."
   ]
  },
  {
   "cell_type": "code",
   "execution_count": 7,
   "id": "81474a5e",
   "metadata": {
    "execution": {
     "iopub.execute_input": "2024-09-16T21:00:09.442173Z",
     "iopub.status.busy": "2024-09-16T21:00:09.441724Z",
     "iopub.status.idle": "2024-09-16T21:00:09.452976Z",
     "shell.execute_reply": "2024-09-16T21:00:09.451666Z"
    },
    "papermill": {
     "duration": 0.024873,
     "end_time": "2024-09-16T21:00:09.455613",
     "exception": false,
     "start_time": "2024-09-16T21:00:09.430740",
     "status": "completed"
    },
    "tags": []
   },
   "outputs": [
    {
     "data": {
      "application/javascript": [
       "parent.postMessage({\"jupyterEvent\": \"custom.exercise_interaction\", \"data\": {\"outcomeType\": 1, \"valueTowardsCompletion\": 0.3333333333333333, \"interactionType\": 1, \"questionType\": 2, \"questionId\": \"1_ZipValidator\", \"learnToolsVersion\": \"0.3.4\", \"failureMessage\": \"\", \"exceptionClass\": \"\", \"trace\": \"\"}}, \"*\")"
      ],
      "text/plain": [
       "<IPython.core.display.Javascript object>"
      ]
     },
     "metadata": {},
     "output_type": "display_data"
    },
    {
     "data": {
      "text/markdown": [
       "<span style=\"color:#33cc33\">Correct</span>"
      ],
      "text/plain": [
       "Correct"
      ]
     },
     "metadata": {},
     "output_type": "display_data"
    }
   ],
   "source": [
    "def is_valid_zip(zip_code):\n",
    "    \"\"\"Returns whether the input string is a valid (5 digit) zip code\n",
    "    \"\"\"\n",
    "    pass\n",
    "    return len(zip_code) == 5 and zip_code.isdigit()\n",
    "\n",
    "# Check your answer\n",
    "q1.check()"
   ]
  },
  {
   "cell_type": "code",
   "execution_count": 8,
   "id": "5eb65d03",
   "metadata": {
    "execution": {
     "iopub.execute_input": "2024-09-16T21:00:09.476733Z",
     "iopub.status.busy": "2024-09-16T21:00:09.476324Z",
     "iopub.status.idle": "2024-09-16T21:00:09.481595Z",
     "shell.execute_reply": "2024-09-16T21:00:09.480097Z"
    },
    "papermill": {
     "duration": 0.0191,
     "end_time": "2024-09-16T21:00:09.484418",
     "exception": false,
     "start_time": "2024-09-16T21:00:09.465318",
     "status": "completed"
    },
    "tags": []
   },
   "outputs": [],
   "source": [
    "#q1.hint()\n",
    "#q1.solution()"
   ]
  },
  {
   "cell_type": "markdown",
   "id": "0782e215",
   "metadata": {
    "papermill": {
     "duration": 0.009558,
     "end_time": "2024-09-16T21:00:09.504028",
     "exception": false,
     "start_time": "2024-09-16T21:00:09.494470",
     "status": "completed"
    },
    "tags": []
   },
   "source": [
    "# 2.\n",
    "\n",
    "A researcher has gathered thousands of news articles. But she wants to focus her attention on articles including a specific word. Complete the function below to help her filter her list of articles.\n",
    "\n",
    "Your function should meet the following criteria:\n",
    "\n",
    "- Do not include documents where the keyword string shows up only as a part of a larger word. For example, if she were looking for the keyword “closed”, you would not include the string “enclosed.” \n",
    "- She does not want you to distinguish upper case from lower case letters. So the phrase “Closed the case.” would be included when the keyword is “closed”\n",
    "- Do not let periods or commas affect what is matched. “It is closed.” would be included when the keyword is “closed”. But you can assume there are no other types of punctuation."
   ]
  },
  {
   "cell_type": "code",
   "execution_count": 9,
   "id": "aaccf077",
   "metadata": {
    "execution": {
     "iopub.execute_input": "2024-09-16T21:00:09.525722Z",
     "iopub.status.busy": "2024-09-16T21:00:09.525311Z",
     "iopub.status.idle": "2024-09-16T21:00:09.538636Z",
     "shell.execute_reply": "2024-09-16T21:00:09.537533Z"
    },
    "papermill": {
     "duration": 0.027687,
     "end_time": "2024-09-16T21:00:09.541440",
     "exception": false,
     "start_time": "2024-09-16T21:00:09.513753",
     "status": "completed"
    },
    "tags": []
   },
   "outputs": [
    {
     "data": {
      "application/javascript": [
       "parent.postMessage({\"jupyterEvent\": \"custom.exercise_interaction\", \"data\": {\"outcomeType\": 3, \"exceptionClass\": \"AttributeError\", \"trace\": \"  File \\\"/opt/conda/lib/python3.10/site-packages/learntools/core/problem.py\\\", line 239, in check\\n    actual = fn(*args)\\n\\n  File \\\"/tmp/ipykernel_17/2437540098.py\\\", line 16, in word_search\\n    normal = [token.split('.,').lower() for token in tokens]\\n\\n  File \\\"/tmp/ipykernel_17/2437540098.py\\\", line 16, in <listcomp>\\n    normal = [token.split('.,').lower() for token in tokens]\\n\", \"failureMessage\": \"When calling your function with arguments `[['The Learn Python Challenge Casino', 'They bought a car, and a horse', 'Casinoville?'], 'casino']`, Python raised the following exception... **`AttributeError: 'list' object has no attribute 'lower'`**\", \"interactionType\": 1, \"questionType\": 2, \"questionId\": \"2_WordSearch\", \"learnToolsVersion\": \"0.3.4\", \"valueTowardsCompletion\": 0.0}}, \"*\")"
      ],
      "text/plain": [
       "<IPython.core.display.Javascript object>"
      ]
     },
     "metadata": {},
     "output_type": "display_data"
    },
    {
     "data": {
      "text/markdown": [
       "<span style=\"color:#cc3333\">Incorrect:</span> When calling your function with arguments `[['The Learn Python Challenge Casino', 'They bought a car, and a horse', 'Casinoville?'], 'casino']`, Python raised the following exception... **`AttributeError: 'list' object has no attribute 'lower'`**"
      ],
      "text/plain": [
       "Incorrect: When calling your function with arguments `[['The Learn Python Challenge Casino', 'They bought a car, and a horse', 'Casinoville?'], 'casino']`, Python raised the following exception... **`AttributeError: 'list' object has no attribute 'lower'`**"
      ]
     },
     "metadata": {},
     "output_type": "display_data"
    }
   ],
   "source": [
    "def word_search(doc_list, keyword):\n",
    "    \"\"\"\n",
    "    Takes a list of documents (each document is a string) and a keyword. \n",
    "    Returns list of the index values into the original list for all documents \n",
    "    containing the keyword.\n",
    "\n",
    "    Example:\n",
    "    doc_list = [\"The Learn Python Challenge Casino.\", \"They bought a car\", \"Casinoville\"]\n",
    "    >>> word_search(doc_list, 'casino')\n",
    "    >>> [0]\n",
    "    \"\"\"\n",
    "    pass\n",
    "    index = []\n",
    "    for i, doc in enumerate(doc_list):\n",
    "        tokens = doc.split()\n",
    "        normal = [token.split('.,').lower() for token in tokens]\n",
    "        if keyword.lower() in normal:\n",
    "            index.append(i)\n",
    "        return index\n",
    "\n",
    "# Check your answer\n",
    "q2.check()"
   ]
  },
  {
   "cell_type": "code",
   "execution_count": 10,
   "id": "cffe5f0a",
   "metadata": {
    "execution": {
     "iopub.execute_input": "2024-09-16T21:00:09.565934Z",
     "iopub.status.busy": "2024-09-16T21:00:09.564664Z",
     "iopub.status.idle": "2024-09-16T21:00:09.573226Z",
     "shell.execute_reply": "2024-09-16T21:00:09.571758Z"
    },
    "papermill": {
     "duration": 0.024587,
     "end_time": "2024-09-16T21:00:09.576301",
     "exception": false,
     "start_time": "2024-09-16T21:00:09.551714",
     "status": "completed"
    },
    "tags": []
   },
   "outputs": [
    {
     "data": {
      "text/plain": [
       "'\\n'"
      ]
     },
     "execution_count": 10,
     "metadata": {},
     "output_type": "execute_result"
    }
   ],
   "source": [
    "e"
   ]
  },
  {
   "cell_type": "code",
   "execution_count": 11,
   "id": "4a0bd809",
   "metadata": {
    "execution": {
     "iopub.execute_input": "2024-09-16T21:00:09.602655Z",
     "iopub.status.busy": "2024-09-16T21:00:09.602030Z",
     "iopub.status.idle": "2024-09-16T21:00:09.607398Z",
     "shell.execute_reply": "2024-09-16T21:00:09.606157Z"
    },
    "papermill": {
     "duration": 0.021387,
     "end_time": "2024-09-16T21:00:09.610122",
     "exception": false,
     "start_time": "2024-09-16T21:00:09.588735",
     "status": "completed"
    },
    "tags": []
   },
   "outputs": [],
   "source": [
    "#q2.hint()\n",
    "#q2.solution()"
   ]
  },
  {
   "cell_type": "markdown",
   "id": "92faf7bb",
   "metadata": {
    "papermill": {
     "duration": 0.010305,
     "end_time": "2024-09-16T21:00:09.631395",
     "exception": false,
     "start_time": "2024-09-16T21:00:09.621090",
     "status": "completed"
    },
    "tags": []
   },
   "source": [
    "# 3.\n",
    "\n",
    "Now the researcher wants to supply multiple keywords to search for. Complete the function below to help her.\n",
    "\n",
    "(You're encouraged to use the `word_search` function you just wrote when implementing this function. Reusing code in this way makes your programs more robust and readable - and it saves typing!)"
   ]
  },
  {
   "cell_type": "code",
   "execution_count": 12,
   "id": "3c7eecdf",
   "metadata": {
    "execution": {
     "iopub.execute_input": "2024-09-16T21:00:09.654658Z",
     "iopub.status.busy": "2024-09-16T21:00:09.654199Z",
     "iopub.status.idle": "2024-09-16T21:00:09.666426Z",
     "shell.execute_reply": "2024-09-16T21:00:09.665146Z"
    },
    "papermill": {
     "duration": 0.026702,
     "end_time": "2024-09-16T21:00:09.669083",
     "exception": false,
     "start_time": "2024-09-16T21:00:09.642381",
     "status": "completed"
    },
    "tags": []
   },
   "outputs": [
    {
     "data": {
      "application/javascript": [
       "parent.postMessage({\"jupyterEvent\": \"custom.exercise_interaction\", \"data\": {\"outcomeType\": 4, \"interactionType\": 1, \"questionType\": 2, \"questionId\": \"3_MultiWordSearch\", \"learnToolsVersion\": \"0.3.4\", \"valueTowardsCompletion\": 0.0, \"failureMessage\": \"\", \"exceptionClass\": \"\", \"trace\": \"\"}}, \"*\")"
      ],
      "text/plain": [
       "<IPython.core.display.Javascript object>"
      ]
     },
     "metadata": {},
     "output_type": "display_data"
    },
    {
     "data": {
      "text/markdown": [
       "<span style=\"color:#ccaa33\">Check:</span> When you've updated the starter code, `check()` will tell you whether your code is correct. "
      ],
      "text/plain": [
       "Check: When you've updated the starter code, `check()` will tell you whether your code is correct. "
      ]
     },
     "metadata": {},
     "output_type": "display_data"
    }
   ],
   "source": [
    "def multi_word_search(doc_list, keywords):\n",
    "    \"\"\"\n",
    "    Takes list of documents (each document is a string) and a list of keywords.  \n",
    "    Returns a dictionary where each key is a keyword, and the value is a list of indices\n",
    "    (from doc_list) of the documents containing that keyword\n",
    "\n",
    "    >>> doc_list = [\"The Learn Python Challenge Casino.\", \"They bought a car and a casino\", \"Casinoville\"]\n",
    "    >>> keywords = ['casino', 'they']\n",
    "    >>> multi_word_search(doc_list, keywords)\n",
    "    {'casino': [0, 1], 'they': [1]}\n",
    "    \"\"\"\n",
    "    pass\n",
    "\n",
    "# Check your answer\n",
    "q3.check()"
   ]
  },
  {
   "cell_type": "code",
   "execution_count": 13,
   "id": "6a5c95fb",
   "metadata": {
    "execution": {
     "iopub.execute_input": "2024-09-16T21:00:09.692931Z",
     "iopub.status.busy": "2024-09-16T21:00:09.692470Z",
     "iopub.status.idle": "2024-09-16T21:00:09.698062Z",
     "shell.execute_reply": "2024-09-16T21:00:09.696866Z"
    },
    "papermill": {
     "duration": 0.021312,
     "end_time": "2024-09-16T21:00:09.701057",
     "exception": false,
     "start_time": "2024-09-16T21:00:09.679745",
     "status": "completed"
    },
    "tags": []
   },
   "outputs": [],
   "source": [
    "#q3.solution()"
   ]
  },
  {
   "cell_type": "markdown",
   "id": "ea6784da",
   "metadata": {
    "papermill": {
     "duration": 0.011073,
     "end_time": "2024-09-16T21:00:09.722965",
     "exception": false,
     "start_time": "2024-09-16T21:00:09.711892",
     "status": "completed"
    },
    "tags": []
   },
   "source": [
    "# Keep Going\n",
    "\n",
    "You've learned a lot. But even the best programmers rely heavily on \"libraries\" of code from other programmers. You'll learn about that in **[the last lesson](https://www.kaggle.com/colinmorris/working-with-external-libraries)**.\n"
   ]
  },
  {
   "cell_type": "markdown",
   "id": "e93189a9",
   "metadata": {
    "papermill": {
     "duration": 0.011048,
     "end_time": "2024-09-16T21:00:09.745067",
     "exception": false,
     "start_time": "2024-09-16T21:00:09.734019",
     "status": "completed"
    },
    "tags": []
   },
   "source": [
    "---\n",
    "\n",
    "\n",
    "\n",
    "\n",
    "*Have questions or comments? Visit the [course discussion forum](https://www.kaggle.com/learn/python/discussion) to chat with other learners.*"
   ]
  }
 ],
 "metadata": {
  "kaggle": {
   "accelerator": "none",
   "dataSources": [],
   "isGpuEnabled": false,
   "isInternetEnabled": false,
   "language": "python",
   "sourceType": "notebook"
  },
  "kernelspec": {
   "display_name": "Python 3",
   "language": "python",
   "name": "python3"
  },
  "language_info": {
   "codemirror_mode": {
    "name": "ipython",
    "version": 3
   },
   "file_extension": ".py",
   "mimetype": "text/x-python",
   "name": "python",
   "nbconvert_exporter": "python",
   "pygments_lexer": "ipython3",
   "version": "3.10.14"
  },
  "learntools_metadata": {
   "lesson_index": 5,
   "type": "exercise"
  },
  "papermill": {
   "default_parameters": {},
   "duration": 5.167742,
   "end_time": "2024-09-16T21:00:10.279914",
   "environment_variables": {},
   "exception": null,
   "input_path": "__notebook__.ipynb",
   "output_path": "__notebook__.ipynb",
   "parameters": {},
   "start_time": "2024-09-16T21:00:05.112172",
   "version": "2.6.0"
  }
 },
 "nbformat": 4,
 "nbformat_minor": 5
}

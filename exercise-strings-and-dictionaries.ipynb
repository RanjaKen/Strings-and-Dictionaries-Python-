{
 "cells": [
  {
   "cell_type": "markdown",
   "id": "b2362beb",
   "metadata": {
    "papermill": {
     "duration": 0.008882,
     "end_time": "2024-09-17T04:18:23.521083",
     "exception": false,
     "start_time": "2024-09-17T04:18:23.512201",
     "status": "completed"
    },
    "tags": []
   },
   "source": [
    "**This notebook is an exercise in the [Python](https://www.kaggle.com/learn/python) course.  You can reference the tutorial at [this link](https://www.kaggle.com/colinmorris/strings-and-dictionaries).**\n",
    "\n",
    "---\n"
   ]
  },
  {
   "cell_type": "markdown",
   "id": "2c7c0382",
   "metadata": {
    "papermill": {
     "duration": 0.011047,
     "end_time": "2024-09-17T04:18:23.540052",
     "exception": false,
     "start_time": "2024-09-17T04:18:23.529005",
     "status": "completed"
    },
    "tags": []
   },
   "source": [
    "You are almost done with the course. Nice job!\n",
    "\n",
    "We have a couple more interesting problems for you before you go. \n",
    "\n",
    "As always, run the setup code below before working on the questions."
   ]
  },
  {
   "cell_type": "code",
   "execution_count": 1,
   "id": "c64777a7",
   "metadata": {
    "execution": {
     "iopub.execute_input": "2024-09-17T04:18:23.559040Z",
     "iopub.status.busy": "2024-09-17T04:18:23.557989Z",
     "iopub.status.idle": "2024-09-17T04:18:24.111649Z",
     "shell.execute_reply": "2024-09-17T04:18:24.110340Z"
    },
    "papermill": {
     "duration": 0.566068,
     "end_time": "2024-09-17T04:18:24.114462",
     "exception": false,
     "start_time": "2024-09-17T04:18:23.548394",
     "status": "completed"
    },
    "tags": []
   },
   "outputs": [
    {
     "name": "stdout",
     "output_type": "stream",
     "text": [
      "Setup complete.\n"
     ]
    }
   ],
   "source": [
    "from learntools.core import binder; binder.bind(globals())\n",
    "from learntools.python.ex6 import *\n",
    "print('Setup complete.')"
   ]
  },
  {
   "cell_type": "markdown",
   "id": "8504032e",
   "metadata": {
    "papermill": {
     "duration": 0.00914,
     "end_time": "2024-09-17T04:18:24.134171",
     "exception": false,
     "start_time": "2024-09-17T04:18:24.125031",
     "status": "completed"
    },
    "tags": []
   },
   "source": [
    "Let's start with a string lightning round to warm up. What are the lengths of the strings below?\n",
    "\n",
    "For each of the five strings below, predict what `len()` would return when passed that string. Use the variable `length` to record your answer, then run the cell to check whether you were right.  \n",
    "\n",
    "# 0a."
   ]
  },
  {
   "cell_type": "code",
   "execution_count": 2,
   "id": "9fbb1746",
   "metadata": {
    "execution": {
     "iopub.execute_input": "2024-09-17T04:18:24.158210Z",
     "iopub.status.busy": "2024-09-17T04:18:24.157010Z",
     "iopub.status.idle": "2024-09-17T04:18:24.168524Z",
     "shell.execute_reply": "2024-09-17T04:18:24.167431Z"
    },
    "papermill": {
     "duration": 0.027272,
     "end_time": "2024-09-17T04:18:24.171232",
     "exception": false,
     "start_time": "2024-09-17T04:18:24.143960",
     "status": "completed"
    },
    "tags": []
   },
   "outputs": [
    {
     "data": {
      "application/javascript": [
       "parent.postMessage({\"jupyterEvent\": \"custom.exercise_interaction\", \"data\": {\"outcomeType\": 1, \"valueTowardsCompletion\": 0.3333333333333333, \"interactionType\": 1, \"questionType\": 1, \"questionId\": \"0.1_ZA\", \"learnToolsVersion\": \"0.3.4\", \"failureMessage\": \"\", \"exceptionClass\": \"\", \"trace\": \"\"}}, \"*\")"
      ],
      "text/plain": [
       "<IPython.core.display.Javascript object>"
      ]
     },
     "metadata": {},
     "output_type": "display_data"
    },
    {
     "data": {
      "text/markdown": [
       "<span style=\"color:#33cc33\">Correct:</span> \n",
       "\n",
       "The empty string has length zero. Note that the empty string is also the only string that Python considers as False when converting to boolean."
      ],
      "text/plain": [
       "Correct: \n",
       "\n",
       "The empty string has length zero. Note that the empty string is also the only string that Python considers as False when converting to boolean."
      ]
     },
     "metadata": {},
     "output_type": "display_data"
    }
   ],
   "source": [
    "a = \"\"\n",
    "length = 0\n",
    "q0.a.check()"
   ]
  },
  {
   "cell_type": "markdown",
   "id": "8f92d5bf",
   "metadata": {
    "papermill": {
     "duration": 0.008779,
     "end_time": "2024-09-17T04:18:24.191833",
     "exception": false,
     "start_time": "2024-09-17T04:18:24.183054",
     "status": "completed"
    },
    "tags": []
   },
   "source": [
    "# 0b."
   ]
  },
  {
   "cell_type": "code",
   "execution_count": 3,
   "id": "fb5f5a73",
   "metadata": {
    "execution": {
     "iopub.execute_input": "2024-09-17T04:18:24.210699Z",
     "iopub.status.busy": "2024-09-17T04:18:24.210151Z",
     "iopub.status.idle": "2024-09-17T04:18:24.221594Z",
     "shell.execute_reply": "2024-09-17T04:18:24.220303Z"
    },
    "papermill": {
     "duration": 0.023944,
     "end_time": "2024-09-17T04:18:24.224161",
     "exception": false,
     "start_time": "2024-09-17T04:18:24.200217",
     "status": "completed"
    },
    "tags": []
   },
   "outputs": [
    {
     "data": {
      "application/javascript": [
       "parent.postMessage({\"jupyterEvent\": \"custom.exercise_interaction\", \"data\": {\"outcomeType\": 1, \"valueTowardsCompletion\": 0.3333333333333333, \"interactionType\": 1, \"questionType\": 1, \"questionId\": \"0.2_ZB\", \"learnToolsVersion\": \"0.3.4\", \"failureMessage\": \"\", \"exceptionClass\": \"\", \"trace\": \"\"}}, \"*\")"
      ],
      "text/plain": [
       "<IPython.core.display.Javascript object>"
      ]
     },
     "metadata": {},
     "output_type": "display_data"
    },
    {
     "data": {
      "text/markdown": [
       "<span style=\"color:#33cc33\">Correct:</span> \n",
       "\n",
       "Keep in mind Python includes spaces (and punctuation) when counting string length."
      ],
      "text/plain": [
       "Correct: \n",
       "\n",
       "Keep in mind Python includes spaces (and punctuation) when counting string length."
      ]
     },
     "metadata": {},
     "output_type": "display_data"
    }
   ],
   "source": [
    "b = \"it's ok\"\n",
    "length = 7\n",
    "q0.b.check()"
   ]
  },
  {
   "cell_type": "markdown",
   "id": "6e4d1f77",
   "metadata": {
    "papermill": {
     "duration": 0.008792,
     "end_time": "2024-09-17T04:18:24.241534",
     "exception": false,
     "start_time": "2024-09-17T04:18:24.232742",
     "status": "completed"
    },
    "tags": []
   },
   "source": [
    "# 0c."
   ]
  },
  {
   "cell_type": "code",
   "execution_count": 4,
   "id": "e486ed30",
   "metadata": {
    "execution": {
     "iopub.execute_input": "2024-09-17T04:18:24.261579Z",
     "iopub.status.busy": "2024-09-17T04:18:24.260406Z",
     "iopub.status.idle": "2024-09-17T04:18:24.271490Z",
     "shell.execute_reply": "2024-09-17T04:18:24.270222Z"
    },
    "papermill": {
     "duration": 0.023789,
     "end_time": "2024-09-17T04:18:24.273960",
     "exception": false,
     "start_time": "2024-09-17T04:18:24.250171",
     "status": "completed"
    },
    "tags": []
   },
   "outputs": [
    {
     "data": {
      "application/javascript": [
       "parent.postMessage({\"jupyterEvent\": \"custom.exercise_interaction\", \"data\": {\"outcomeType\": 1, \"valueTowardsCompletion\": 0.3333333333333333, \"interactionType\": 1, \"questionType\": 1, \"questionId\": \"0.3_ZC\", \"learnToolsVersion\": \"0.3.4\", \"failureMessage\": \"\", \"exceptionClass\": \"\", \"trace\": \"\"}}, \"*\")"
      ],
      "text/plain": [
       "<IPython.core.display.Javascript object>"
      ]
     },
     "metadata": {},
     "output_type": "display_data"
    },
    {
     "data": {
      "text/markdown": [
       "<span style=\"color:#33cc33\">Correct:</span> \n",
       "\n",
       "Even though we use different syntax to create it, the string `c` is identical to `b`. In particular, note that the backslash is not part of the string, so it doesn't contribute to its length."
      ],
      "text/plain": [
       "Correct: \n",
       "\n",
       "Even though we use different syntax to create it, the string `c` is identical to `b`. In particular, note that the backslash is not part of the string, so it doesn't contribute to its length."
      ]
     },
     "metadata": {},
     "output_type": "display_data"
    }
   ],
   "source": [
    "c = 'it\\'s ok'\n",
    "length = 7\n",
    "q0.c.check()"
   ]
  },
  {
   "cell_type": "markdown",
   "id": "e94b5c51",
   "metadata": {
    "papermill": {
     "duration": 0.008658,
     "end_time": "2024-09-17T04:18:24.291470",
     "exception": false,
     "start_time": "2024-09-17T04:18:24.282812",
     "status": "completed"
    },
    "tags": []
   },
   "source": [
    "# 0d."
   ]
  },
  {
   "cell_type": "code",
   "execution_count": 5,
   "id": "3c4232a3",
   "metadata": {
    "execution": {
     "iopub.execute_input": "2024-09-17T04:18:24.311905Z",
     "iopub.status.busy": "2024-09-17T04:18:24.311404Z",
     "iopub.status.idle": "2024-09-17T04:18:24.323144Z",
     "shell.execute_reply": "2024-09-17T04:18:24.321812Z"
    },
    "papermill": {
     "duration": 0.025334,
     "end_time": "2024-09-17T04:18:24.325699",
     "exception": false,
     "start_time": "2024-09-17T04:18:24.300365",
     "status": "completed"
    },
    "tags": []
   },
   "outputs": [
    {
     "data": {
      "application/javascript": [
       "parent.postMessage({\"jupyterEvent\": \"custom.exercise_interaction\", \"data\": {\"outcomeType\": 1, \"valueTowardsCompletion\": 0.3333333333333333, \"interactionType\": 1, \"questionType\": 1, \"questionId\": \"0.4_ZD\", \"learnToolsVersion\": \"0.3.4\", \"failureMessage\": \"\", \"exceptionClass\": \"\", \"trace\": \"\"}}, \"*\")"
      ],
      "text/plain": [
       "<IPython.core.display.Javascript object>"
      ]
     },
     "metadata": {},
     "output_type": "display_data"
    },
    {
     "data": {
      "text/markdown": [
       "<span style=\"color:#33cc33\">Correct:</span> \n",
       "\n",
       "The fact that this string was created using triple-quote syntax doesn't make any difference in terms of its content or length. This string is exactly the same as `'hey'`."
      ],
      "text/plain": [
       "Correct: \n",
       "\n",
       "The fact that this string was created using triple-quote syntax doesn't make any difference in terms of its content or length. This string is exactly the same as `'hey'`."
      ]
     },
     "metadata": {},
     "output_type": "display_data"
    }
   ],
   "source": [
    "d = \"\"\"hey\"\"\"\n",
    "length = 3\n",
    "q0.d.check()"
   ]
  },
  {
   "cell_type": "markdown",
   "id": "aee6b11a",
   "metadata": {
    "papermill": {
     "duration": 0.009178,
     "end_time": "2024-09-17T04:18:24.344350",
     "exception": false,
     "start_time": "2024-09-17T04:18:24.335172",
     "status": "completed"
    },
    "tags": []
   },
   "source": [
    "# 0e."
   ]
  },
  {
   "cell_type": "code",
   "execution_count": 6,
   "id": "c14d5fab",
   "metadata": {
    "execution": {
     "iopub.execute_input": "2024-09-17T04:18:24.365145Z",
     "iopub.status.busy": "2024-09-17T04:18:24.364615Z",
     "iopub.status.idle": "2024-09-17T04:18:24.376693Z",
     "shell.execute_reply": "2024-09-17T04:18:24.375345Z"
    },
    "papermill": {
     "duration": 0.025918,
     "end_time": "2024-09-17T04:18:24.379696",
     "exception": false,
     "start_time": "2024-09-17T04:18:24.353778",
     "status": "completed"
    },
    "tags": []
   },
   "outputs": [
    {
     "data": {
      "application/javascript": [
       "parent.postMessage({\"jupyterEvent\": \"custom.exercise_interaction\", \"data\": {\"outcomeType\": 1, \"valueTowardsCompletion\": 0.3333333333333333, \"interactionType\": 1, \"questionType\": 1, \"questionId\": \"0.5_ZE\", \"learnToolsVersion\": \"0.3.4\", \"failureMessage\": \"\", \"exceptionClass\": \"\", \"trace\": \"\"}}, \"*\")"
      ],
      "text/plain": [
       "<IPython.core.display.Javascript object>"
      ]
     },
     "metadata": {},
     "output_type": "display_data"
    },
    {
     "data": {
      "text/markdown": [
       "<span style=\"color:#33cc33\">Correct:</span> \n",
       "\n",
       "The newline character is just a single character! (Even though we represent it to Python using a combination of two characters.)"
      ],
      "text/plain": [
       "Correct: \n",
       "\n",
       "The newline character is just a single character! (Even though we represent it to Python using a combination of two characters.)"
      ]
     },
     "metadata": {},
     "output_type": "display_data"
    }
   ],
   "source": [
    "e = '\\n'\n",
    "length = 1\n",
    "q0.e.check()"
   ]
  },
  {
   "cell_type": "markdown",
   "id": "979e0344",
   "metadata": {
    "papermill": {
     "duration": 0.009746,
     "end_time": "2024-09-17T04:18:24.403708",
     "exception": false,
     "start_time": "2024-09-17T04:18:24.393962",
     "status": "completed"
    },
    "tags": []
   },
   "source": [
    "# 1.\n",
    "\n",
    "There is a saying that \"Data scientists spend 80% of their time cleaning data, and 20% of their time complaining about cleaning data.\" Let's see if you can write a function to help clean US zip code data. Given a string, it should return whether or not that string represents a valid zip code. For our purposes, a valid zip code is any string consisting of exactly 5 digits.\n",
    "\n",
    "HINT: `str` has a method that will be useful here. Use `help(str)` to review a list of string methods."
   ]
  },
  {
   "cell_type": "code",
   "execution_count": 7,
   "id": "a440e9c4",
   "metadata": {
    "execution": {
     "iopub.execute_input": "2024-09-17T04:18:24.425041Z",
     "iopub.status.busy": "2024-09-17T04:18:24.424524Z",
     "iopub.status.idle": "2024-09-17T04:18:24.436919Z",
     "shell.execute_reply": "2024-09-17T04:18:24.435718Z"
    },
    "papermill": {
     "duration": 0.026337,
     "end_time": "2024-09-17T04:18:24.439703",
     "exception": false,
     "start_time": "2024-09-17T04:18:24.413366",
     "status": "completed"
    },
    "tags": []
   },
   "outputs": [
    {
     "data": {
      "application/javascript": [
       "parent.postMessage({\"jupyterEvent\": \"custom.exercise_interaction\", \"data\": {\"outcomeType\": 1, \"valueTowardsCompletion\": 0.3333333333333333, \"interactionType\": 1, \"questionType\": 2, \"questionId\": \"1_ZipValidator\", \"learnToolsVersion\": \"0.3.4\", \"failureMessage\": \"\", \"exceptionClass\": \"\", \"trace\": \"\"}}, \"*\")"
      ],
      "text/plain": [
       "<IPython.core.display.Javascript object>"
      ]
     },
     "metadata": {},
     "output_type": "display_data"
    },
    {
     "data": {
      "text/markdown": [
       "<span style=\"color:#33cc33\">Correct</span>"
      ],
      "text/plain": [
       "Correct"
      ]
     },
     "metadata": {},
     "output_type": "display_data"
    }
   ],
   "source": [
    "def is_valid_zip(zip_code):\n",
    "    \"\"\"Returns whether the input string is a valid (5 digit) zip code\n",
    "    \"\"\"\n",
    "    pass\n",
    "    return len(zip_code) == 5 and zip_code.isdigit()\n",
    "\n",
    "# Check your answer\n",
    "q1.check()"
   ]
  },
  {
   "cell_type": "code",
   "execution_count": 8,
   "id": "d5ce8fa8",
   "metadata": {
    "execution": {
     "iopub.execute_input": "2024-09-17T04:18:24.461659Z",
     "iopub.status.busy": "2024-09-17T04:18:24.461126Z",
     "iopub.status.idle": "2024-09-17T04:18:24.466462Z",
     "shell.execute_reply": "2024-09-17T04:18:24.465283Z"
    },
    "papermill": {
     "duration": 0.019761,
     "end_time": "2024-09-17T04:18:24.469556",
     "exception": false,
     "start_time": "2024-09-17T04:18:24.449795",
     "status": "completed"
    },
    "tags": []
   },
   "outputs": [],
   "source": [
    "#q1.hint()\n",
    "#q1.solution()"
   ]
  },
  {
   "cell_type": "markdown",
   "id": "30b72fc6",
   "metadata": {
    "papermill": {
     "duration": 0.010944,
     "end_time": "2024-09-17T04:18:24.494492",
     "exception": false,
     "start_time": "2024-09-17T04:18:24.483548",
     "status": "completed"
    },
    "tags": []
   },
   "source": [
    "# 2.\n",
    "\n",
    "A researcher has gathered thousands of news articles. But she wants to focus her attention on articles including a specific word. Complete the function below to help her filter her list of articles.\n",
    "\n",
    "Your function should meet the following criteria:\n",
    "\n",
    "- Do not include documents where the keyword string shows up only as a part of a larger word. For example, if she were looking for the keyword “closed”, you would not include the string “enclosed.” \n",
    "- She does not want you to distinguish upper case from lower case letters. So the phrase “Closed the case.” would be included when the keyword is “closed”\n",
    "- Do not let periods or commas affect what is matched. “It is closed.” would be included when the keyword is “closed”. But you can assume there are no other types of punctuation."
   ]
  },
  {
   "cell_type": "code",
   "execution_count": 9,
   "id": "c309968b",
   "metadata": {
    "execution": {
     "iopub.execute_input": "2024-09-17T04:18:24.516698Z",
     "iopub.status.busy": "2024-09-17T04:18:24.516149Z",
     "iopub.status.idle": "2024-09-17T04:18:24.531056Z",
     "shell.execute_reply": "2024-09-17T04:18:24.529866Z"
    },
    "papermill": {
     "duration": 0.029725,
     "end_time": "2024-09-17T04:18:24.534262",
     "exception": false,
     "start_time": "2024-09-17T04:18:24.504537",
     "status": "completed"
    },
    "tags": []
   },
   "outputs": [
    {
     "data": {
      "application/javascript": [
       "parent.postMessage({\"jupyterEvent\": \"custom.exercise_interaction\", \"data\": {\"outcomeType\": 1, \"valueTowardsCompletion\": 0.3333333333333333, \"interactionType\": 1, \"questionType\": 2, \"questionId\": \"2_WordSearch\", \"learnToolsVersion\": \"0.3.4\", \"failureMessage\": \"\", \"exceptionClass\": \"\", \"trace\": \"\"}}, \"*\")"
      ],
      "text/plain": [
       "<IPython.core.display.Javascript object>"
      ]
     },
     "metadata": {},
     "output_type": "display_data"
    },
    {
     "data": {
      "text/markdown": [
       "<span style=\"color:#33cc33\">Correct</span>"
      ],
      "text/plain": [
       "Correct"
      ]
     },
     "metadata": {},
     "output_type": "display_data"
    }
   ],
   "source": [
    "def word_search(doc_list, keyword):\n",
    "    \"\"\"\n",
    "    Takes a list of documents (each document is a string) and a keyword. \n",
    "    Returns list of the index values into the original list for all documents \n",
    "    containing the keyword.\n",
    "\n",
    "    Example:\n",
    "    doc_list = [\"The Learn Python Challenge Casino.\", \"They bought a car\", \"Casinoville\"]\n",
    "    >>> word_search(doc_list, 'casino')\n",
    "    >>> [0]\n",
    "    \"\"\"\n",
    "    pass\n",
    "    index = []\n",
    "    for i, doc in enumerate(doc_list):\n",
    "        tokens = doc.split()\n",
    "        normal = [token.rstrip('.,').lower() for token in tokens]\n",
    "        if keyword.lower() in normal:\n",
    "            index.append(i)\n",
    "    return index\n",
    "\n",
    "# Check your answer\n",
    "q2.check()"
   ]
  },
  {
   "cell_type": "code",
   "execution_count": 10,
   "id": "3d4d5064",
   "metadata": {
    "execution": {
     "iopub.execute_input": "2024-09-17T04:18:24.566003Z",
     "iopub.status.busy": "2024-09-17T04:18:24.564828Z",
     "iopub.status.idle": "2024-09-17T04:18:24.572641Z",
     "shell.execute_reply": "2024-09-17T04:18:24.571487Z"
    },
    "papermill": {
     "duration": 0.026676,
     "end_time": "2024-09-17T04:18:24.575624",
     "exception": false,
     "start_time": "2024-09-17T04:18:24.548948",
     "status": "completed"
    },
    "tags": []
   },
   "outputs": [
    {
     "data": {
      "text/plain": [
       "'\\n'"
      ]
     },
     "execution_count": 10,
     "metadata": {},
     "output_type": "execute_result"
    }
   ],
   "source": [
    "e"
   ]
  },
  {
   "cell_type": "code",
   "execution_count": 11,
   "id": "3d274fe5",
   "metadata": {
    "execution": {
     "iopub.execute_input": "2024-09-17T04:18:24.604258Z",
     "iopub.status.busy": "2024-09-17T04:18:24.603116Z",
     "iopub.status.idle": "2024-09-17T04:18:24.608787Z",
     "shell.execute_reply": "2024-09-17T04:18:24.607491Z"
    },
    "papermill": {
     "duration": 0.020501,
     "end_time": "2024-09-17T04:18:24.611313",
     "exception": false,
     "start_time": "2024-09-17T04:18:24.590812",
     "status": "completed"
    },
    "tags": []
   },
   "outputs": [],
   "source": [
    "#q2.hint()\n",
    "#q2.solution()"
   ]
  },
  {
   "cell_type": "markdown",
   "id": "b611f8f7",
   "metadata": {
    "papermill": {
     "duration": 0.010143,
     "end_time": "2024-09-17T04:18:24.632104",
     "exception": false,
     "start_time": "2024-09-17T04:18:24.621961",
     "status": "completed"
    },
    "tags": []
   },
   "source": [
    "# 3.\n",
    "\n",
    "Now the researcher wants to supply multiple keywords to search for. Complete the function below to help her.\n",
    "\n",
    "(You're encouraged to use the `word_search` function you just wrote when implementing this function. Reusing code in this way makes your programs more robust and readable - and it saves typing!)"
   ]
  },
  {
   "cell_type": "code",
   "execution_count": 12,
   "id": "1f990a94",
   "metadata": {
    "execution": {
     "iopub.execute_input": "2024-09-17T04:18:24.655165Z",
     "iopub.status.busy": "2024-09-17T04:18:24.654642Z",
     "iopub.status.idle": "2024-09-17T04:18:24.669065Z",
     "shell.execute_reply": "2024-09-17T04:18:24.667689Z"
    },
    "papermill": {
     "duration": 0.029277,
     "end_time": "2024-09-17T04:18:24.671839",
     "exception": false,
     "start_time": "2024-09-17T04:18:24.642562",
     "status": "completed"
    },
    "tags": []
   },
   "outputs": [
    {
     "data": {
      "application/javascript": [
       "parent.postMessage({\"jupyterEvent\": \"custom.exercise_interaction\", \"data\": {\"outcomeType\": 1, \"valueTowardsCompletion\": 0.3333333333333333, \"interactionType\": 1, \"questionType\": 2, \"questionId\": \"3_MultiWordSearch\", \"learnToolsVersion\": \"0.3.4\", \"failureMessage\": \"\", \"exceptionClass\": \"\", \"trace\": \"\"}}, \"*\")"
      ],
      "text/plain": [
       "<IPython.core.display.Javascript object>"
      ]
     },
     "metadata": {},
     "output_type": "display_data"
    },
    {
     "data": {
      "text/markdown": [
       "<span style=\"color:#33cc33\">Correct</span>"
      ],
      "text/plain": [
       "Correct"
      ]
     },
     "metadata": {},
     "output_type": "display_data"
    }
   ],
   "source": [
    "def multi_word_search(doc_list, keywords):\n",
    "    \"\"\"\n",
    "    Takes list of documents (each document is a string) and a list of keywords.  \n",
    "    Returns a dictionary where each key is a keyword, and the value is a list of indices\n",
    "    (from doc_list) of the documents containing that keyword\n",
    "\n",
    "    >>> doc_list = [\"The Learn Python Challenge Casino.\", \"They bought a car and a casino\", \"Casinoville\"]\n",
    "    >>> keywords = ['casino', 'they']\n",
    "    >>> multi_word_search(doc_list, keywords)\n",
    "    {'casino': [0, 1], 'they': [1]}\n",
    "    \"\"\"\n",
    "    pass\n",
    "    index = {}\n",
    "    for keyword in keywords:\n",
    "        index[keyword] = word_search(doc_list, keyword)\n",
    "    return index  \n",
    "        \n",
    "# Check your answer\n",
    "q3.check()"
   ]
  },
  {
   "cell_type": "code",
   "execution_count": 13,
   "id": "405f4717",
   "metadata": {
    "execution": {
     "iopub.execute_input": "2024-09-17T04:18:24.696116Z",
     "iopub.status.busy": "2024-09-17T04:18:24.695599Z",
     "iopub.status.idle": "2024-09-17T04:18:24.701302Z",
     "shell.execute_reply": "2024-09-17T04:18:24.700156Z"
    },
    "papermill": {
     "duration": 0.02099,
     "end_time": "2024-09-17T04:18:24.703954",
     "exception": false,
     "start_time": "2024-09-17T04:18:24.682964",
     "status": "completed"
    },
    "tags": []
   },
   "outputs": [],
   "source": [
    "#q3.solution()"
   ]
  },
  {
   "cell_type": "markdown",
   "id": "7e4c6830",
   "metadata": {
    "papermill": {
     "duration": 0.010263,
     "end_time": "2024-09-17T04:18:24.725023",
     "exception": false,
     "start_time": "2024-09-17T04:18:24.714760",
     "status": "completed"
    },
    "tags": []
   },
   "source": [
    "# Keep Going\n",
    "\n",
    "You've learned a lot. But even the best programmers rely heavily on \"libraries\" of code from other programmers. You'll learn about that in **[the last lesson](https://www.kaggle.com/colinmorris/working-with-external-libraries)**.\n"
   ]
  },
  {
   "cell_type": "markdown",
   "id": "9cec1c34",
   "metadata": {
    "papermill": {
     "duration": 0.01029,
     "end_time": "2024-09-17T04:18:24.746047",
     "exception": false,
     "start_time": "2024-09-17T04:18:24.735757",
     "status": "completed"
    },
    "tags": []
   },
   "source": [
    "---\n",
    "\n",
    "\n",
    "\n",
    "\n",
    "*Have questions or comments? Visit the [course discussion forum](https://www.kaggle.com/learn/python/discussion) to chat with other learners.*"
   ]
  }
 ],
 "metadata": {
  "kaggle": {
   "accelerator": "none",
   "dataSources": [],
   "isGpuEnabled": false,
   "isInternetEnabled": false,
   "language": "python",
   "sourceType": "notebook"
  },
  "kernelspec": {
   "display_name": "Python 3",
   "language": "python",
   "name": "python3"
  },
  "language_info": {
   "codemirror_mode": {
    "name": "ipython",
    "version": 3
   },
   "file_extension": ".py",
   "mimetype": "text/x-python",
   "name": "python",
   "nbconvert_exporter": "python",
   "pygments_lexer": "ipython3",
   "version": "3.10.14"
  },
  "learntools_metadata": {
   "lesson_index": 5,
   "type": "exercise"
  },
  "papermill": {
   "default_parameters": {},
   "duration": 4.869146,
   "end_time": "2024-09-17T04:18:25.279326",
   "environment_variables": {},
   "exception": null,
   "input_path": "__notebook__.ipynb",
   "output_path": "__notebook__.ipynb",
   "parameters": {},
   "start_time": "2024-09-17T04:18:20.410180",
   "version": "2.6.0"
  }
 },
 "nbformat": 4,
 "nbformat_minor": 5
}
